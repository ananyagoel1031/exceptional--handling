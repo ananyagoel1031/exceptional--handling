{
 "cells": [
  {
   "cell_type": "markdown",
   "id": "4a6818b2-3136-443f-a467-4c5116016ad4",
   "metadata": {},
   "source": [
    "## Files, exceptional handling, logging and memory management (Assignment - 5)"
   ]
  },
  {
   "cell_type": "markdown",
   "id": "8e1feadb-f4cc-4b4d-b6e3-89244a73f63d",
   "metadata": {},
   "source": [
    "## Assignment Questions"
   ]
  },
  {
   "cell_type": "markdown",
   "id": "efbd30a7-2fbf-42d4-8391-88d602281504",
   "metadata": {},
   "source": [
    "### Q1. What is the difference between interpreted and compiled languages?"
   ]
  },
  {
   "cell_type": "markdown",
   "id": "777a93dd-4a92-4bdd-9ac7-ba393f1ca421",
   "metadata": {},
   "source": [
    "#### A1. A compiled language translates the entire source code into machine code using a compiler before execution. This machine code is directly executed by the CPU, making compiled programs faster and more efficient. Examples include C, C++, and Rust. Compilation errors are caught before execution, ensuring that only error-free code runs. However, compiled programs are platform-dependent, and any code changes require recompilation.\n",
    "\n",
    "#### An interpreted language executes code line by line using an interpreter. The source code is not converted into machine code beforehand, making it more flexible and platform-independent. Examples include Python, JavaScript, and Ruby. Interpreted languages allow for dynamic typing and runtime debugging, but they are generally slower than compiled languages due to the overhead of interpreting each line during execution."
   ]
  },
  {
   "cell_type": "markdown",
   "id": "ee87ddb1-96bc-4a2a-81c2-674fdf1dfcb7",
   "metadata": {},
   "source": [
    "### Q2.  What is exception handling in Python?"
   ]
  },
  {
   "cell_type": "markdown",
   "id": "0ef6bff8-07ac-4e0d-81b4-985713aa7267",
   "metadata": {},
   "source": [
    "#### A2. Exception handling in Python is a mechanism that allows you to manage errors gracefully, preventing your program from crashing when unexpected situations occur.\n",
    "\n",
    "#### An exception is an event that disrupts the normal flow of a program's execution. It can occur due to various reasons, such as invalid input, file not found, or division by zero. If not handled, exceptions can lead to program termination. \n",
    "\n",
    "#### Example:"
   ]
  },
  {
   "cell_type": "code",
   "execution_count": 2,
   "id": "e02eda78-4b43-47c0-8133-5480139d77bd",
   "metadata": {},
   "outputs": [
    {
     "name": "stdin",
     "output_type": "stream",
     "text": [
      "Enter a number:  0\n"
     ]
    },
    {
     "name": "stdout",
     "output_type": "stream",
     "text": [
      "You cannot divide by zero!\n"
     ]
    }
   ],
   "source": [
    "try:\n",
    "    num = int(input(\"Enter a number: \"))\n",
    "    print(10 / num)\n",
    "except ZeroDivisionError:\n",
    "    print(\"You cannot divide by zero!\")\n",
    "except ValueError:\n",
    "    print(\"Invalid input! Please enter a number.\")\n",
    "\n",
    "#here, we got zero division error"
   ]
  },
  {
   "cell_type": "markdown",
   "id": "dd4e371a-8286-4476-a63a-dde432b99e5f",
   "metadata": {},
   "source": [
    "### Q3. What is the purpose of the finally block in exception handling?"
   ]
  },
  {
   "cell_type": "markdown",
   "id": "6ebb3f52-e3d7-4a48-bd4c-b09946a674b9",
   "metadata": {},
   "source": [
    "#### A3. The finally block in exception handling serves an essential purpose, ensuring that specific code is executed regardless of whether an exception occurs or not. Its primary role is to handle cleanup operations or release resources, making programs more robust and reliable.\n",
    "\n",
    "#### Example:"
   ]
  },
  {
   "cell_type": "code",
   "execution_count": 3,
   "id": "d358008c-389d-4621-a6b0-ad7036c674b9",
   "metadata": {},
   "outputs": [
    {
     "name": "stdout",
     "output_type": "stream",
     "text": [
      "An error occurred: division by zero\n",
      "\n",
      "Finally block executed, performing cleanup tasks.\n"
     ]
    }
   ],
   "source": [
    "def divide(num1, num2):\n",
    "    return num1 / num2\n",
    "\n",
    "try:\n",
    "    # Code that may cause an exception\n",
    "    result = divide(10, 0)  # Attempting to divide by zero\n",
    "    print(\"Result:\", result)  # This line won't be executed\n",
    "except ZeroDivisionError as e:\n",
    "    # Handling the exception\n",
    "    print(\"An error occurred:\", e)\n",
    "finally:\n",
    "    # finally block\n",
    "    print(\"\\nFinally block executed, performing cleanup tasks.\")"
   ]
  },
  {
   "cell_type": "markdown",
   "id": "d367363d-07c9-4780-a81f-472967e40863",
   "metadata": {},
   "source": [
    "### Q4. What is logging in Python?"
   ]
  },
  {
   "cell_type": "markdown",
   "id": "ee0b008c-2dec-4a42-b42e-41cbedd1d02d",
   "metadata": {},
   "source": [
    "#### A4. Logging in Python is a built-in feature provided by the logging module that allows developers to track events, errors, and the flow of a program during its execution. It is a powerful tool for debugging, monitoring, and maintaining applications.\n",
    "\n",
    "### Logging supports different levels of severity:\n",
    "#### DEBUG: Detailed information for diagnosing problems.\n",
    "#### INFO: General information about program execution.\n",
    "#### WARNING: Indications of potential issues.\n",
    "#### ERROR: Errors that prevent part of the program from functioning.\n",
    "#### CRITICAL: Serious errors that may cause the program to stop.\n"
   ]
  },
  {
   "cell_type": "markdown",
   "id": "e61d4de2-9c53-4b3a-8884-13de7e2ccd6d",
   "metadata": {},
   "source": [
    "### Q5.  What is the significance of the _ _ del _ _ method in Python?"
   ]
  },
  {
   "cell_type": "markdown",
   "id": "ff1f364b-0527-4b82-8506-91d8bfd42503",
   "metadata": {},
   "source": [
    "#### A5. The _ _ del _ _ method in Python, also known as the destructor, is a special method that is called when an object is about to be destroyed. Its primary purpose is to allow you to define cleanup actions, such as releasing resources or closing connections, before the object is garbage collected.\n",
    "\n",
    "#### Example:"
   ]
  },
  {
   "cell_type": "code",
   "execution_count": 4,
   "id": "e38e0e30-5e1b-4cee-9fbd-84cfc4057c37",
   "metadata": {},
   "outputs": [
    {
     "name": "stdout",
     "output_type": "stream",
     "text": [
      "Object Example created.\n",
      "Object Example is being destroyed.\n"
     ]
    }
   ],
   "source": [
    "class MyClass:\n",
    "    def __init__(self, name):\n",
    "        self.name = name\n",
    "        print(f\"Object {self.name} created.\")\n",
    "\n",
    "    def __del__(self):\n",
    "        print(f\"Object {self.name} is being destroyed.\")\n",
    "\n",
    "# Creating and deleting an object\n",
    "obj = MyClass(\"Example\")\n",
    "del obj  # Explicitly deletes the object\n"
   ]
  },
  {
   "cell_type": "markdown",
   "id": "be4433f9-2131-4c20-80f2-881e560f7096",
   "metadata": {},
   "source": [
    "### Q6. What is the difference between import and from ... import in Python?"
   ]
  },
  {
   "cell_type": "markdown",
   "id": "bc61060d-53a6-4fee-9216-e71fc7841554",
   "metadata": {},
   "source": [
    "#### A6. 1. import Statement: Imports the entire module. You access the module's functions, classes, or variables using the module name as a prefix.\n",
    "\n",
    "#### Example:\n",
    "#### import math\n",
    "#### print(math.sqrt(16))  # Accessing sqrt via the module name\n",
    "\n",
    "\n",
    "#### 2. from ... import Statement: Imports specific components (functions, classes, or variables) from a module. You can use the imported components directly without the module prefix.\n",
    "\n",
    "#### Example:\n",
    "#### from math import sqrt\n",
    "#### print(sqrt(16))  # Directly using sqrt\n",
    "\n"
   ]
  },
  {
   "cell_type": "markdown",
   "id": "6d7d07bf-8af8-4eb1-9d20-23f655ee1a76",
   "metadata": {},
   "source": [
    "### Q7. How can you handle multiple exceptions in Python?"
   ]
  },
  {
   "cell_type": "markdown",
   "id": "503d61c7-d43a-487a-855c-bd6305611922",
   "metadata": {},
   "source": [
    "#### A7. Given a piece of code that can throw any of several different exceptions, and one needs to account for all of the potential exceptions that could be raised without creating duplicate code or long, meandering code passages. If you can handle different exceptions all using a single block of code, they can be grouped together in a tuple as shown in the code given below:"
   ]
  },
  {
   "cell_type": "code",
   "execution_count": 7,
   "id": "b9eb4d30-f066-46fb-ac80-46bc0f5ff04c",
   "metadata": {},
   "outputs": [
    {
     "name": "stdout",
     "output_type": "stream",
     "text": [
      "An error occurred: invalid literal for int() with base 10: 'abc'\n"
     ]
    }
   ],
   "source": [
    "try:\n",
    "    # Code that may raise exceptions\n",
    "    result = int(\"abc\")  # This will raise a ValueError\n",
    "except (ValueError, TypeError) as e:\n",
    "    print(f\"An error occurred: {e}\")"
   ]
  },
  {
   "cell_type": "markdown",
   "id": "18f464f6-92fc-4852-a61e-23c75b12736b",
   "metadata": {},
   "source": [
    "#### If, on the other hand, if one of the exceptions has to be handled differently, then put it into its own except clause as shown in the code given below : "
   ]
  },
  {
   "cell_type": "code",
   "execution_count": 6,
   "id": "d33b24c2-9e8b-41bd-9676-872f264f75df",
   "metadata": {},
   "outputs": [
    {
     "name": "stdout",
     "output_type": "stream",
     "text": [
      "Caught a ZeroDivisionError!\n"
     ]
    }
   ],
   "source": [
    "try:\n",
    "    # Code that may raise exceptions\n",
    "    result = 10 / 0  # This will raise a ZeroDivisionError\n",
    "except ValueError:\n",
    "    print(\"Caught a ValueError!\")\n",
    "except ZeroDivisionError:\n",
    "    print(\"Caught a ZeroDivisionError!\")"
   ]
  },
  {
   "cell_type": "markdown",
   "id": "eea303d8-8443-41c3-b940-8c08b2cef440",
   "metadata": {},
   "source": [
    "### Q8. What is the purpose of the with statement when handling files in Python?"
   ]
  },
  {
   "cell_type": "markdown",
   "id": "3e7e63c9-140f-4c04-a901-4f57d0b4dac9",
   "metadata": {},
   "source": [
    "#### A8. The \"with\" statement in Python simplifies resource management by automatically handling setup and cleanup tasks. It's commonly used with files, network connections and databases to ensure resources are properly released even if errors occur making your code cleaner.\n",
    "\n",
    "#### Example: \n",
    "#### with open(\"example.txt\", \"w\") as file:\n",
    "####      file.write(\"Hello, Python!\")"
   ]
  },
  {
   "cell_type": "markdown",
   "id": "f3a9825c-f619-477b-99e9-3cbd25cf8aab",
   "metadata": {},
   "source": [
    "### Q9. What is the difference between multithreading and multiprocessing?"
   ]
  },
  {
   "cell_type": "markdown",
   "id": "c240150b-7cce-4fa5-b8e0-494ad760c1ca",
   "metadata": {},
   "source": [
    "#### A9. Multithreading involves creating multiple threads within a single process to execute tasks concurrently. Threads share the same memory space, making communication between them efficient but prone to synchronization issues. It is ideal for tasks that involve I/O operations or lightweight computations since thread creation is economical and less resource-intensive.\n",
    "\n",
    "#### Multiprocessing uses multiple CPUs or cores to execute multiple processes simultaneously. Each process has its own memory space, which avoids synchronization issues but increases memory usage. It is suitable for CPU-bound tasks that require heavy computational power, as it leverages multiple processors to enhance performance."
   ]
  },
  {
   "cell_type": "markdown",
   "id": "d7bfac87-4408-4bac-bc9b-c29c383af7af",
   "metadata": {},
   "source": [
    "### Q10. What are the advantages of using logging in a program?"
   ]
  },
  {
   "cell_type": "markdown",
   "id": "fd93c2df-7e61-43aa-bc3e-c3b5180d8083",
   "metadata": {},
   "source": [
    "####  A10. The advantages of using logging in a program include:\n",
    "#### 1. Debugging: Helps identify and diagnose issues by capturing relevant information during program execution. \n",
    "#### 2. Monitoring: Provides insights into the application's behavior and performance. \n",
    "#### 3. Auditing: Keeps a record of important events and actions for security purposes. \n",
    "#### 4. Troubleshooting: Facilitates tracking of program flow and variable values to understand unexpected behavior. \n",
    "#### 5. Performance Optimization: Assists in optimizing performance by analyzing logs to identify bottlenecks. \n",
    "\n",
    "#### Logging is an essential tool that enhances the overall quality and maintainability of software applications. "
   ]
  },
  {
   "cell_type": "markdown",
   "id": "a3e149f7-35ab-4494-81e7-8ac51945ddc7",
   "metadata": {},
   "source": [
    "### Q11. What is memory management in Python?"
   ]
  },
  {
   "cell_type": "markdown",
   "id": "fb035c7f-c324-4a6b-9b89-12c2979856ae",
   "metadata": {},
   "source": [
    "#### A11. Python employs an automatic memory management system that combines reference counting and garbage collection to handle memory allocation and deallocation efficiently. This ensures developers can focus on writing code without worrying about manual memory management."
   ]
  },
  {
   "cell_type": "markdown",
   "id": "8c91f654-1248-4341-8f31-0786f84a67a0",
   "metadata": {},
   "source": [
    "### Q12. What are the basic steps involved in exception handling in Python?"
   ]
  },
  {
   "cell_type": "markdown",
   "id": "d1edc730-a983-4a82-a493-465e42d031ab",
   "metadata": {},
   "source": [
    "#### A12. Exception handling in Python is a structured way to manage errors gracefully, ensuring your program doesn't crash unexpectedly. Here are the basic steps involved:\n",
    "\n",
    "#### 1. Use try Block : Place the code that might raise an exception inside a try block. Python will monitor this block for errors during execution.\n",
    "#### 2. Handle Exceptions with except Block : Use one or more except blocks to catch and handle specific exceptions.\n",
    "#### 3. Use else Block: The else block executes if no exceptions occur in the try block. It’s useful for code that should only run when everything goes smoothly.\n",
    "#### 4. Use finally Block: The finally block executes no matter what—whether an exception occurs or not. It’s ideal for cleanup actions like closing files or releasing resources.\n",
    "\n",
    "#### Illustration:"
   ]
  },
  {
   "cell_type": "code",
   "execution_count": 10,
   "id": "a86b29fc-ef6e-43aa-9d3c-5c2a59bdb6ae",
   "metadata": {},
   "outputs": [
    {
     "name": "stdin",
     "output_type": "stream",
     "text": [
      "Enter a number:  0\n"
     ]
    },
    {
     "name": "stdout",
     "output_type": "stream",
     "text": [
      "You cannot divide by zero!\n",
      "Thank you for using the program.\n"
     ]
    }
   ],
   "source": [
    "try:\n",
    "    num = int(input(\"Enter a number: \"))\n",
    "    result = 10 / num\n",
    "except ZeroDivisionError:\n",
    "    print(\"You cannot divide by zero!\")\n",
    "except ValueError:\n",
    "    print(\"Invalid input! Please enter a number.\")\n",
    "else:\n",
    "    print(f\"Result is: {result}\")\n",
    "finally:\n",
    "    print(\"Thank you for using the program.\")"
   ]
  },
  {
   "cell_type": "markdown",
   "id": "9145fa89-fc44-43ea-b654-2f41721c5764",
   "metadata": {},
   "source": [
    "### Q13. Why is memory management important in Python?"
   ]
  },
  {
   "cell_type": "markdown",
   "id": "e9c64e66-5ec2-4751-b346-d914c0fbd1bd",
   "metadata": {},
   "source": [
    "#### A13. Advantages of memory management in Python:\n",
    "#### 1. Automatic memory handling \n",
    "#### 2. Reduced chances of memory leaks \n",
    "#### 3. Increased productivity of the programmer \n",
    "#### 4. Optimized use of static memory allocation \n",
    "#### 5. Cross-platform working "
   ]
  },
  {
   "cell_type": "markdown",
   "id": "531cd88b-a1bc-4eba-a26c-1746274ed78c",
   "metadata": {},
   "source": [
    "### Q14. What is the role of try and except in exception handling?"
   ]
  },
  {
   "cell_type": "markdown",
   "id": "7937aa7c-074e-43c0-a9ca-dead5ae217e9",
   "metadata": {},
   "source": [
    "#### A14. The role of try and except in exception handling is to manage errors that may occur during program execution.\n",
    "#### 1. The try block contains code that might raise an exception, allowing the program to attempt to execute it. \n",
    "#### 2. If an error occurs, control is transferred to the except block, which catches and handles the specified exception, preventing the program from crashing. \n",
    "#### 3. This mechanism allows for a more controlled response to unexpected situations, enabling the program to continue running or to provide meaningful error messages. "
   ]
  },
  {
   "cell_type": "markdown",
   "id": "c8c86056-c93a-46ed-9f26-af79be5eabb9",
   "metadata": {},
   "source": [
    "### Q15. How does Python's garbage collection system work?"
   ]
  },
  {
   "cell_type": "markdown",
   "id": "1a1a6750-bf7f-4849-a1c4-f0e17893e57c",
   "metadata": {},
   "source": [
    "#### A15. Garbage collection in Python is a mechanism to automatically manage memory by reclaiming memory that is no longer in use. This helps prevent memory leaks and ensures efficient memory allocation. Python uses two main strategies for memory management: reference counting and generational garbage collection.\n",
    "\n",
    "#### 1. Reference Counting: Reference counting is a technique where each object has a reference count that tracks the number of references pointing to it. When an object's reference count drops to zero, it means the object is no longer accessible, and its memory can be freed. Here is an example of reference counting:"
   ]
  },
  {
   "cell_type": "code",
   "execution_count": 11,
   "id": "d397f017-fcf0-480d-a0f0-c1190f4e3ba6",
   "metadata": {},
   "outputs": [
    {
     "name": "stdout",
     "output_type": "stream",
     "text": [
      "2\n"
     ]
    }
   ],
   "source": [
    "import sys\n",
    "\n",
    "x = [1, 2, 3]\n",
    "print(sys.getrefcount(x)) "
   ]
  },
  {
   "cell_type": "markdown",
   "id": "9e06bae8-dbf2-4339-9d0e-ff6a8fbe3501",
   "metadata": {},
   "source": [
    "#### 2. Generational garbage collection is used to handle cyclic references that reference counting cannot manage. Python's garbage collector divides objects into three generations based on their lifespan. New objects are placed in the youngest generation (generation 0). If they survive garbage collection, they are promoted to older generations (generation 1 and 2). The garbage collector runs based on a threshold of object allocations and deallocations.\n",
    "#### Example:"
   ]
  },
  {
   "cell_type": "code",
   "execution_count": 12,
   "id": "452650e5-eaf6-4781-9805-cc4a1c7aa473",
   "metadata": {},
   "outputs": [
    {
     "name": "stdout",
     "output_type": "stream",
     "text": [
      "(2000, 10, 10)\n",
      "(500, 5, 5)\n"
     ]
    }
   ],
   "source": [
    "import gc\n",
    "\n",
    "print(gc.get_threshold())\n",
    "gc.set_threshold(500, 5, 5)\n",
    "print(gc.get_threshold())"
   ]
  },
  {
   "cell_type": "markdown",
   "id": "98a3ab72-769f-438f-b477-2ff534a021fc",
   "metadata": {},
   "source": [
    "### Q16.  What is the purpose of the else block in exception handling?"
   ]
  },
  {
   "cell_type": "markdown",
   "id": "59112438-766b-4a46-a7fa-5fa8d4c98d41",
   "metadata": {},
   "source": [
    "#### A16. In Python exception handling, the else block is used to execute code that should run only if the code in the try block does not raise an exception. It provides a clean way to separate the logic that should execute when no errors occur from the error-handling logic in the except block.\n",
    "\n",
    "#### Example:"
   ]
  },
  {
   "cell_type": "code",
   "execution_count": 13,
   "id": "c05aa802-bf30-4a38-b387-e9a1bbca8963",
   "metadata": {},
   "outputs": [
    {
     "name": "stdout",
     "output_type": "stream",
     "text": [
      "Success! The result is 5.0\n"
     ]
    }
   ],
   "source": [
    "try:\n",
    "    result = 10 / 2  # No exception here\n",
    "except ZeroDivisionError:\n",
    "    print(\"Division by zero is not allowed!\")\n",
    "else:\n",
    "    print(f\"Success! The result is {result}\")  # Executes because no exception occurred"
   ]
  },
  {
   "cell_type": "markdown",
   "id": "0e847a19-0b77-4a05-9745-8c907a5fe14b",
   "metadata": {},
   "source": [
    "### Q17.  What are the common logging levels in Python?"
   ]
  },
  {
   "cell_type": "markdown",
   "id": "e41a8ab8-b6c0-4585-8656-0a82d01d255b",
   "metadata": {},
   "source": [
    "#### A17. Logging supports different levels of severity:\n",
    "#### 1. DEBUG: Detailed information for diagnosing problems.\n",
    "#### 2. INFO: General information about program execution.\n",
    "#### 3. WARNING: Indications of potential issues.\n",
    "#### 4. ERROR: Errors that prevent part of the program from functioning.\n",
    "#### 5. CRITICAL: Serious errors that may cause the program to stop."
   ]
  },
  {
   "cell_type": "markdown",
   "id": "74630b7a-0845-48e9-9666-1a0df9a690d8",
   "metadata": {},
   "source": [
    "### Q18. What is the difference between os.fork() and multiprocessing in Python?"
   ]
  },
  {
   "cell_type": "markdown",
   "id": "7f84fcdf-659d-4e6a-9375-771f000da22e",
   "metadata": {},
   "source": [
    "#### A18. os.fork(): Only available on Unix-based systems (e.g., Linux, macOS). It is not supported on Windows.A low-level system call that creates a child process by duplicating the parent process. It requires manual handling of inter-process communication (IPC) and shared resources.The child process inherits a copy of the parent process's memory. However, changes in the child process do not affect the parent process (copy-on-write behavior).Requires more effort to manage processes, handle errors, and implement IPC.Suitable for low-level process control where fine-grained management is needed.\n",
    "\n",
    "\n",
    "#### multiprocessing: Cross-platform and works on Unix, Windows, and macOS. A high-level module that abstracts process creation and provides tools for IPC, shared memory, and synchronization, making it easier to use. Offers mechanisms like Queue, Pipe, and Manager for sharing data between processes, which simplifies communication. Designed for simplicity and includes built-in tools for process management, making it more user-friendly for general-purpose parallelism. Ideal for high-level parallelism and tasks like data processing, where ease of use and portability are priorities."
   ]
  },
  {
   "cell_type": "markdown",
   "id": "b74f16a1-0f7b-45c7-85ee-58ebb264a395",
   "metadata": {},
   "source": [
    "### Q19.  What is the importance of closing a file in Python?"
   ]
  },
  {
   "cell_type": "markdown",
   "id": "2421e8bc-3f06-487d-b842-9e1c2fc518fa",
   "metadata": {},
   "source": [
    "#### A19. Closing a file in Python is crucial for several reasons:\n",
    "#### 1. Releasing System Resources: When a file is opened, it consumes system resources like memory and file descriptors. Closing the file ensures these resources are released, preventing resource leaks.\n",
    "#### 2. Ensuring Data Integrity: Changes made to a file (e.g., writing data) may not be saved immediately. Closing the file flushes any remaining data in the buffer to the file, ensuring all changes are properly written.\n",
    "#### 3. Avoiding File Corruption: Leaving a file open for too long or not closing it properly can lead to data corruption, especially if the program crashes or the system shuts down unexpectedly.\n",
    "#### 4. Allowing Other Programs Access: An open file may be locked, preventing other programs or processes from accessing it. Closing the file removes this lock, enabling others to use it."
   ]
  },
  {
   "cell_type": "markdown",
   "id": "ab431f1b-1518-44c6-b9b0-fa4d45d38f5f",
   "metadata": {},
   "source": [
    "### Q20. What is the difference between file.read() and file.readline() in Python?"
   ]
  },
  {
   "cell_type": "markdown",
   "id": "dabc5346-0c98-4fec-ac49-7edbb97f515f",
   "metadata": {},
   "source": [
    "#### A20. The difference between read() and readline() in Python for file operations is as follows: \n",
    "#### read(): Reads the entire content of the file as a single string.\n",
    "#### readline(): Reads one line at a time from the file."
   ]
  },
  {
   "cell_type": "markdown",
   "id": "8ee857ad-771e-432b-8dc7-d1eb17f2ab90",
   "metadata": {},
   "source": [
    "### Q21. What is the logging module in Python used for?"
   ]
  },
  {
   "cell_type": "markdown",
   "id": "24a081af-42b5-4a0d-8dab-e3a63d9c9aca",
   "metadata": {},
   "source": [
    "#### A21. Python's logging module provides a robust and flexible way to track events in your application. \n",
    "#### Logging is a means of tracking events that happen when some software runs. Logging is important for software developing, debugging, and running. If you don't have any logging record and your program crashes, there are very few chances that you detect the cause of the problem. And if you detect the cause, it will consume a lot of time. With logging, you can leave a trail of breadcrumbs so that if something goes wrong, we can determine the cause of the problem. "
   ]
  },
  {
   "cell_type": "markdown",
   "id": "8bcfa6a8-29b6-421f-ada6-473282ba1c4f",
   "metadata": {},
   "source": [
    "### Q22. What is the os module in Python used for in file handling?"
   ]
  },
  {
   "cell_type": "markdown",
   "id": "26bb59a8-766e-4250-8c42-71ff9d8ca53a",
   "metadata": {},
   "source": [
    "#### A22. The Python os module provides a wide range of functions to interact with the operating system, enabling file and directory management, path manipulations, and more. OS module in Python provides functions for interacting with the operating system. OS comes under Python's standard utility modules. This module provides a portable way of using operating system-dependent functionality."
   ]
  },
  {
   "cell_type": "markdown",
   "id": "364edbb2-6e49-4e95-b283-1aefbd687bc7",
   "metadata": {},
   "source": [
    "### Q23. What are the challenges associated with memory management in Python?"
   ]
  },
  {
   "cell_type": "markdown",
   "id": "f8a6d317-4fcc-492d-917e-6123d8a74c98",
   "metadata": {},
   "source": [
    "#### Python's memory management is largely automated, thanks to features like garbage collection and reference counting. However, this automation introduces several challenges, especially in scenarios requiring high performance or real-time processing.\n",
    "#### 1. Memory Leaks: Memory leaks occur when objects are no longer needed but are not released due to lingering references. This can lead to excessive memory consumption over time, especially in long-running applications.\n",
    "\n",
    "#### 2. Fragmentation: Memory fragmentation happens when memory blocks become scattered due to frequent allocation and deallocation. This can make it difficult to allocate large contiguous memory blocks, reducing efficiency. Fragmentation is particularly problematic in applications requiring consistent memory performance.\n",
    "\n",
    "#### 3. Garbage Collection Overhead: Python's garbage collector, while efficient, can introduce performance overhead. In real-time applications, the unpredictable nature of garbage collection pauses can disrupt time-sensitive operations. Managing this overhead requires careful tuning of the garbage collector or manual intervention.\n",
    "\n",
    "#### 4. Lack of Manual Control: Python abstracts memory management, limiting developers' ability to manually allocate or deallocate memory. While this simplifies development, it can be a drawback in scenarios requiring fine-grained control over memory usage\n"
   ]
  },
  {
   "cell_type": "markdown",
   "id": "1da92953-6857-444b-b3e4-48ea5e9d84f4",
   "metadata": {},
   "source": [
    "### Q24.  How do you raise an exception manually in Python?"
   ]
  },
  {
   "cell_type": "markdown",
   "id": "76840327-870b-457b-99b1-228525c90c73",
   "metadata": {},
   "source": [
    "#### A24. In Python, you can manually raise an exception using the raise keyword. "
   ]
  },
  {
   "cell_type": "code",
   "execution_count": 14,
   "id": "26c15021-dcaa-4a0f-900c-bb0b40de918d",
   "metadata": {},
   "outputs": [
    {
     "ename": "CustomError",
     "evalue": "This is a custom exception.",
     "output_type": "error",
     "traceback": [
      "\u001b[1;31m---------------------------------------------------------------------------\u001b[0m",
      "\u001b[1;31mCustomError\u001b[0m                               Traceback (most recent call last)",
      "Cell \u001b[1;32mIn[14], line 6\u001b[0m\n\u001b[0;32m      3\u001b[0m     \u001b[38;5;28;01mpass\u001b[39;00m\n\u001b[0;32m      5\u001b[0m \u001b[38;5;66;03m# Raising the custom exception\u001b[39;00m\n\u001b[1;32m----> 6\u001b[0m \u001b[38;5;28;01mraise\u001b[39;00m CustomError(\u001b[38;5;124m\"\u001b[39m\u001b[38;5;124mThis is a custom exception.\u001b[39m\u001b[38;5;124m\"\u001b[39m)\n",
      "\u001b[1;31mCustomError\u001b[0m: This is a custom exception."
     ]
    }
   ],
   "source": [
    "# Defining a custom exception\n",
    "class CustomError(Exception):\n",
    "    pass\n",
    "\n",
    "# Raising the custom exception\n",
    "raise CustomError(\"This is a custom exception.\")\n"
   ]
  },
  {
   "cell_type": "markdown",
   "id": "3b45af94-a81a-4684-b37e-e00c58d74fc9",
   "metadata": {},
   "source": [
    "### Q25.  Why is it important to use multithreading in certain applications?"
   ]
  },
  {
   "cell_type": "markdown",
   "id": "c1688ce7-57e7-487d-a988-7b97a39d7617",
   "metadata": {},
   "source": [
    "#### A25. Multithreading is a crucial concept in modern computing that allows multiple threads to execute concurrently, enabling more efficient utilization of system resources. By breaking down tasks into smaller threads, applications can achieve higher performance, better responsiveness, and enhanced scalability. Whether it's handling multiple user requests or performing complex operations in parallel, multithreading is an essential technique in both single-processor and multi-processor systems. "
   ]
  },
  {
   "cell_type": "markdown",
   "id": "53d48cf5-d202-46ac-ab28-60fb830f5a66",
   "metadata": {},
   "source": [
    "## Practical Questions"
   ]
  },
  {
   "cell_type": "markdown",
   "id": "a2d3ee45-beb7-4354-8a15-b2f18b990470",
   "metadata": {},
   "source": [
    "### Q1. How can you open a file for writing in Python and write a string to it?"
   ]
  },
  {
   "cell_type": "code",
   "execution_count": 8,
   "id": "ff7787c7-af7f-4aa7-b928-79c7c74ea905",
   "metadata": {},
   "outputs": [
    {
     "name": "stdout",
     "output_type": "stream",
     "text": [
      "Hello, this is a sample text!\n"
     ]
    }
   ],
   "source": [
    "#### A1. # Open a file in write mode\n",
    "with open(\"example.txt\", \"w\") as file:\n",
    "    # Write a string to the file\n",
    "    file.write(\"Hello, this is a sample text!\")\n",
    "# Open a file in read mode\n",
    "with open(\"example.txt\", \"r\") as file:\n",
    "    data=file.read()\n",
    "print(data)\n",
    "file.close()"
   ]
  },
  {
   "cell_type": "markdown",
   "id": "383ed1e1-e551-479b-a189-390836ab5234",
   "metadata": {},
   "source": [
    "### Q2.  Write a Python program to read the contents of a file and print each line."
   ]
  },
  {
   "cell_type": "code",
   "execution_count": 58,
   "id": "63013d82-417d-4769-8623-a292ebaa3e5a",
   "metadata": {},
   "outputs": [
    {
     "name": "stdout",
     "output_type": "stream",
     "text": [
      "['Hello, this is a sample text! Welcome to the class']\n"
     ]
    }
   ],
   "source": [
    "#### A1. # Open a file in write mode\n",
    "with open(\"example.txt\", \"w\") as file:\n",
    "    # Write a string to the file\n",
    "    file.write(\"Hello, this is a sample text!\")\n",
    "    file.write(\" \")\n",
    "    file.write(\"Welcome to the class\")\n",
    "# Open a file in read mode   \n",
    "with open(\"example.txt\", \"r\") as file:\n",
    "    data=file.readlines() #reading content line by line\n",
    "print(data)\n",
    "file.close()"
   ]
  },
  {
   "cell_type": "markdown",
   "id": "bc1bcc75-0ab9-48bb-bc3e-19451ff05bce",
   "metadata": {},
   "source": [
    "### Q3. How would you handle a case where the file doesn't exist while trying to open it for reading?"
   ]
  },
  {
   "cell_type": "code",
   "execution_count": 24,
   "id": "d447c7c0-58a1-4b29-9f5e-35dbd4142ef4",
   "metadata": {},
   "outputs": [
    {
     "name": "stdout",
     "output_type": "stream",
     "text": [
      "File does not exist\n"
     ]
    }
   ],
   "source": [
    "try:\n",
    "    with open(\"file.txt\", \"r\") as file:\n",
    "        data=file.read() \n",
    "    print(data)\n",
    "\n",
    "except Exception as e:\n",
    "    print(\"File does not exist\")#since, file.txt does not exist therefore, it will execute except part"
   ]
  },
  {
   "cell_type": "markdown",
   "id": "d13efbe0-7f7b-4963-adde-50b6a9ebbcca",
   "metadata": {},
   "source": [
    "### Q4.  Write a Python script that reads from one file and writes its content to another file."
   ]
  },
  {
   "cell_type": "raw",
   "id": "114fc80e-cb7f-48e5-a9d2-4a43c0dc9e8c",
   "metadata": {},
   "source": [
    "from Teacher import Teacher_details\n",
    "import os,sys\n",
    "from os.path import dirname,join,abspath\n",
    "parent_dir_path=abspath(join(dirname(__file__),\".\"))\n",
    "sys.path.insert(0,parent_dir_path)\n",
    "\n",
    "\n",
    "def Teacher(): #stored in one file named Teacher.py\n",
    "    print(\"Teacher details\")\n",
    "\n",
    "\n",
    "\n",
    "def student(): #stored in other file named Student.py\n",
    "    print(\"Student details\")\n",
    "Teacher_details.Teacher()"
   ]
  },
  {
   "cell_type": "markdown",
   "id": "88302e01-a387-47f8-93dd-8134c0f0cfc0",
   "metadata": {},
   "source": [
    "### Q5. How would you catch and handle division by zero error in Python?"
   ]
  },
  {
   "cell_type": "code",
   "execution_count": 25,
   "id": "b9611910-877e-4d7b-90a8-7e8284c69787",
   "metadata": {},
   "outputs": [
    {
     "name": "stdout",
     "output_type": "stream",
     "text": [
      "Division not possible\n"
     ]
    }
   ],
   "source": [
    "try:\n",
    "    10/0\n",
    "except ZeroDivisionError as e:\n",
    "    print(\"Division not possible\")"
   ]
  },
  {
   "cell_type": "markdown",
   "id": "e3c8dd7f-1c60-4d80-9695-6e0e52b1a0e8",
   "metadata": {},
   "source": [
    "### Q6. Write a Python program that logs an error message to a log file when a division by zero exception occurs?"
   ]
  },
  {
   "cell_type": "code",
   "execution_count": 26,
   "id": "bb3322cd-b3bc-47b0-980f-f78591606f00",
   "metadata": {},
   "outputs": [
    {
     "name": "stdout",
     "output_type": "stream",
     "text": [
      "An error occurred. Check the log file for details.\n"
     ]
    }
   ],
   "source": [
    "import logging\n",
    "\n",
    "# Configure logging\n",
    "logging.basicConfig(\n",
    "    filename='error.log',  # Log file name\n",
    "    level=logging.ERROR,   # Log level\n",
    "    format='%(asctime)s - %(levelname)s - %(message)s'  # Log format\n",
    ")\n",
    "\n",
    "def divide_numbers(a, b):\n",
    "    try:\n",
    "        result = a / b\n",
    "        return result\n",
    "    except ZeroDivisionError as e:\n",
    "        logging.error(\"Division by zero error occurred: %s\", e)\n",
    "        print(\"An error occurred. Check the log file for details.\")\n",
    "\n",
    "# Example usage\n",
    "divide_numbers(10, 0)\n"
   ]
  },
  {
   "cell_type": "markdown",
   "id": "6caf6066-97aa-42f4-b2de-f03266c4ca0e",
   "metadata": {},
   "source": [
    "### Q7. How do you log information at different levels (INFO, ERROR, WARNING) in Python using the logging module?"
   ]
  },
  {
   "cell_type": "code",
   "execution_count": 51,
   "id": "5b697712-9a91-4fe0-980d-e3a1dd059aec",
   "metadata": {},
   "outputs": [],
   "source": [
    "# importing module\n",
    "import logging\n",
    "\n",
    "# Create and configure logger\n",
    "logging.basicConfig(filename='error1.log',\n",
    "                    level=logging.DEBUG,\n",
    "                    format='%(asctime)s - %(message)s')\n",
    "\n",
    "# Test messages\n",
    "logging.debug(\"Harmless debug Message\")\n",
    "logging.info(\"Just an information\")\n",
    "logging.warning(\"Its a Warning\")\n",
    "logging.error(\"Did you try to divide by zero\")\n",
    "logging.critical(\"Internet is down\")\n",
    "logging.shutdown()"
   ]
  },
  {
   "cell_type": "markdown",
   "id": "42d111fb-8e16-4360-b502-235fa9965d62",
   "metadata": {},
   "source": [
    "### Q8. Write a program to handle a file opening error using exception handling."
   ]
  },
  {
   "cell_type": "code",
   "execution_count": 49,
   "id": "f8b4a05a-e0d3-4c44-bf3d-8fb1ec248585",
   "metadata": {},
   "outputs": [
    {
     "name": "stdout",
     "output_type": "stream",
     "text": [
      "File does not exist\n"
     ]
    }
   ],
   "source": [
    "try:\n",
    "    with open(\"file.txt\", \"r\") as file:\n",
    "        data=file.read() \n",
    "    print(data)\n",
    "\n",
    "except Exception as e:\n",
    "    print(\"File does not exist\")#since, file.txt does not exist therefore, it will execute except part"
   ]
  },
  {
   "cell_type": "markdown",
   "id": "44845fd3-893c-4d26-be70-c65ea97e8273",
   "metadata": {},
   "source": [
    "### Q9.  How can you read a file line by line and store its content in a list in Python?"
   ]
  },
  {
   "cell_type": "code",
   "execution_count": 56,
   "id": "ce24a9af-da6b-4f70-bff7-8c32336b29f1",
   "metadata": {},
   "outputs": [
    {
     "name": "stdout",
     "output_type": "stream",
     "text": [
      "['Hello, this is a sample text!', '', 'Welcome to the class']\n"
     ]
    }
   ],
   "source": [
    "with open(\"filename.txt\", \"w\") as file:\n",
    "    # Write a string to the file\n",
    "    file.write(\"Hello, this is a sample text!\\n\")\n",
    "    file.write(\"\\n\")\n",
    "    file.write(\"Welcome to the class\\n\")\n",
    "\n",
    "lines = []\n",
    "with open('filename.txt', 'r') as file:\n",
    "    for line in file:\n",
    "        lines.append(line.strip())\n",
    "print(lines)"
   ]
  },
  {
   "cell_type": "markdown",
   "id": "c2773c83-bd1f-4e68-acae-1fdff40248b9",
   "metadata": {},
   "source": [
    "### Q10.  How can you append data to an existing file in Python?"
   ]
  },
  {
   "cell_type": "code",
   "execution_count": 60,
   "id": "e7baef06-2c8c-4e4d-b56b-64fbd99f12fb",
   "metadata": {},
   "outputs": [
    {
     "name": "stdout",
     "output_type": "stream",
     "text": [
      "Hello, this is a sample text!\n",
      "\n",
      " Welcome to the class\n",
      "Appending more data.\n",
      "\n"
     ]
    }
   ],
   "source": [
    "with open('filename.txt', 'a+') as file:\n",
    "    file.write('Appending more data.\\n')\n",
    "    file.seek(0)  # Move to the beginning of the file\n",
    "    print(file.read())  # Read the entire file content"
   ]
  },
  {
   "cell_type": "markdown",
   "id": "580ba802-b860-402b-a8e0-6cd9648df476",
   "metadata": {},
   "source": [
    "### Q11. Write a Python program that uses a try-except block to handle an error when attempting to access a dictionary key that doesn't exist."
   ]
  },
  {
   "cell_type": "code",
   "execution_count": 62,
   "id": "2c7d20ed-1d78-4416-9720-4878af401213",
   "metadata": {},
   "outputs": [
    {
     "name": "stdout",
     "output_type": "stream",
     "text": [
      "'class' Key not found\n"
     ]
    }
   ],
   "source": [
    "\n",
    "try:\n",
    "    d={\"name\":\"ajay\",\"age\":30}\n",
    "    d[\"class\"]\n",
    "except KeyError as e:\n",
    "    print(e,\"Key not found\")"
   ]
  },
  {
   "cell_type": "markdown",
   "id": "2c7ebbc3-2d02-4b59-ba4f-b3ae973b12b6",
   "metadata": {},
   "source": [
    "### Q12. Write a program that demonstrates using multiple except blocks to handle different types of exceptions."
   ]
  },
  {
   "cell_type": "code",
   "execution_count": 64,
   "id": "3ff466f4-b6dd-4df7-87c3-f2aef9dabc44",
   "metadata": {},
   "outputs": [
    {
     "name": "stdout",
     "output_type": "stream",
     "text": [
      "division by zero not possible\n"
     ]
    }
   ],
   "source": [
    "try:\n",
    "    10/0\n",
    "except ZeroDivisionError as e:\n",
    "    print(e,\"not possible\")\n",
    "except TypeError as e:\n",
    "    print(e,\"invalid type\")"
   ]
  },
  {
   "cell_type": "markdown",
   "id": "622d9c95-f238-469c-8485-a70e8c7d0a62",
   "metadata": {},
   "source": [
    "### Q13.  How would you check if a file exists before attempting to read it in Python?"
   ]
  },
  {
   "cell_type": "code",
   "execution_count": 66,
   "id": "135aaef3-7e3e-485c-9cc1-1bd0c2489077",
   "metadata": {},
   "outputs": [
    {
     "name": "stdout",
     "output_type": "stream",
     "text": [
      "File exists!\n",
      "Hello, this is a sample text! Welcome to the classAppending more data.\n",
      "\n"
     ]
    }
   ],
   "source": [
    "import os\n",
    "\n",
    "file_path = \"example.txt\"\n",
    "if os.path.exists(file_path):\n",
    "    print(\"File exists!\")\n",
    "    with open(\"example.txt\", \"r\") as file:\n",
    "        data=file.read() \n",
    "    print(data)\n",
    "else:\n",
    "    print(\"File does not exist.\")\n"
   ]
  },
  {
   "cell_type": "markdown",
   "id": "392adecb-ca1c-4326-8efb-a7e917bebfa1",
   "metadata": {},
   "source": [
    "### Q14. Write a program that uses the logging module to log both informational and error messages."
   ]
  },
  {
   "cell_type": "code",
   "execution_count": 71,
   "id": "f4472e93-1d60-4a9f-96fc-fea39e7ccc8d",
   "metadata": {},
   "outputs": [
    {
     "name": "stdout",
     "output_type": "stream",
     "text": [
      "5.0\n",
      "None\n"
     ]
    }
   ],
   "source": [
    "import logging\n",
    "\n",
    "# Configure logging\n",
    "logging.basicConfig(filename=\"error1.log\",\n",
    "    level=logging.DEBUG,  # Set the minimum logging level\n",
    "    format='%(asctime)s - %(levelname)s - %(message)s',  # Log message format\n",
    ")\n",
    "\n",
    "# Example usage of logging\n",
    "def divide_numbers(a, b):\n",
    "    try:\n",
    "        logging.info(f\"Attempting to divide {a} by {b}\")\n",
    "        result = a / b\n",
    "        logging.info(f\"Division successful: {a} / {b} = {result}\")\n",
    "        return result\n",
    "    except ZeroDivisionError as e:\n",
    "        logging.error(\"Error: Division by zero is not allowed\", exc_info=True)\n",
    "\n",
    "# Test the logging\n",
    "print(divide_numbers(10, 2))  # Informational log\n",
    "print(divide_numbers(10, 0)) # Error log\n"
   ]
  },
  {
   "cell_type": "markdown",
   "id": "e53df21e-7593-45d5-ae12-5414bc9b6f7f",
   "metadata": {},
   "source": [
    "### Q15.  Write a Python program that prints the content of a file and handles the case when the file is empty."
   ]
  },
  {
   "cell_type": "code",
   "execution_count": 73,
   "id": "945dd8b1-8e6d-4a3d-967f-097d4ef36a82",
   "metadata": {},
   "outputs": [
    {
     "name": "stdout",
     "output_type": "stream",
     "text": [
      "File Content:\n",
      "Hello, this is a sample text!\n",
      "\n",
      " Welcome to the class\n",
      "Appending more data.\n",
      "\n"
     ]
    }
   ],
   "source": [
    "def print_file_content(file_path):\n",
    "    try:\n",
    "        with open(file_path, 'r') as file:\n",
    "            content = file.read()\n",
    "            if content.strip():  # Check if the file is not empty\n",
    "                print(\"File Content:\")\n",
    "                print(content)\n",
    "            else:\n",
    "                print(\"The file is empty.\")\n",
    "    except FileNotFoundError:\n",
    "        print(f\"Error: The file '{file_path}' does not exist.\")\n",
    "    except Exception as e:\n",
    "        print(f\"An unexpected error occurred: {e}\")\n",
    "\n",
    "# Example usage\n",
    "file_path = \"filename.txt\"  # Replace with your file path\n",
    "print_file_content(file_path)\n"
   ]
  },
  {
   "cell_type": "markdown",
   "id": "b92b3560-2ab8-479f-8f3a-6c0be34ae3f1",
   "metadata": {},
   "source": [
    "### Q16.  Demonstrate how to use memory profiling to check the memory usage of a small program."
   ]
  },
  {
   "cell_type": "markdown",
   "id": "bba3d63d-fb53-421f-a5ce-efe2ef5fe06a",
   "metadata": {},
   "source": [
    "### Q17. Write a Python program to create and write a list of numbers to a file, one number per line."
   ]
  },
  {
   "cell_type": "code",
   "execution_count": 88,
   "id": "faba7edc-8ce8-4ecd-9342-1cb5049279d1",
   "metadata": {},
   "outputs": [
    {
     "name": "stdout",
     "output_type": "stream",
     "text": [
      "Numbers have been written to numbers.txt.\n"
     ]
    }
   ],
   "source": [
    "# Define the list of numbers\n",
    "numbers = [1, 2, 3, 4, 5, 6, 7, 8, 9, 10]\n",
    "\n",
    "# Specify the file name\n",
    "file_name = \"numbers.txt\"\n",
    "\n",
    "# Open the file in write mode and write each number on a new line\n",
    "with open(file_name, \"w\") as file:\n",
    "    for number in numbers:\n",
    "        file.write(f\"{number}\\n\")\n",
    "\n",
    "print(f\"Numbers have been written to {file_name}.\")\n"
   ]
  },
  {
   "cell_type": "markdown",
   "id": "93533ff9-8dae-4a2d-9709-c9c06950b4e0",
   "metadata": {},
   "source": [
    "### Q18.  How would you implement a basic logging setup that logs to a file with rotation after 1MB?"
   ]
  },
  {
   "cell_type": "code",
   "execution_count": 94,
   "id": "4dfc8b9e-447d-4dd1-b887-2290b69bad70",
   "metadata": {},
   "outputs": [
    {
     "name": "stdout",
     "output_type": "stream",
     "text": [
      "b\"Logging is a means of tracking events that happen when some software runs.Logging is important for software developing, \\n     debugging, and running.If you don't have any logging record and your program crashes, there are very few chances that you detect \\n     the cause of the problem. And if you detect the cause, it will consume a lot of time. With logging, you can leave a trail of breadcrumbs so that \\n     if something goes wrong, we can determine the cause of the problem. There are a number of situations like if you are expecting an integer,\\n     you have been given a float and you can a cloud API, the service is down for maintenance, and much more. \\n     Such problems are out of control and are hard to determine.Hello!This is my python programData ScienceLogging is a means of tracking events that happen when some software runs. \\n     Logging is important for software developing, debugging, and running. \\n     If you don't have any logging record and your program crashes, there are v\"\n"
     ]
    }
   ],
   "source": [
    "import io\n",
    "with open(\"test.txt\",\"wb\")as f:\n",
    "     file=io.BufferedWriter(f)\n",
    "     file.write(b\"\"\"Logging is a means of tracking events that happen when some software runs.Logging is important for software developing, \n",
    "     debugging, and running.If you don't have any logging record and your program crashes, there are very few chances that you detect \n",
    "     the cause of the problem. And if you detect the cause, it will consume a lot of time. With logging, you can leave a trail of breadcrumbs so that \n",
    "     if something goes wrong, we can determine the cause of the problem. There are a number of situations like if you are expecting an integer,\n",
    "     you have been given a float and you can a cloud API, the service is down for maintenance, and much more. \n",
    "     Such problems are out of control and are hard to determine.\"\"\")\n",
    "     file.write(b\"Hello!This is my python program\")\n",
    "     file.write(b\"Data Science\")\n",
    "     file.write(b\"\"\"Logging is a means of tracking events that happen when some software runs. \n",
    "     Logging is important for software developing, debugging, and running. \n",
    "     If you don't have any logging record and your program crashes, there are very few chances that you detect the cause of the problem.\n",
    "     And if you detect the cause, it will consume a lot of time. With logging, you can leave a trail of breadcrumbs so that \n",
    "     if something goes wrong, we can determine the cause of the problem. There are a number of situations like if you are expecting an integer,\n",
    "     you have been given a float and you can a cloud API, the service is down for maintenance, and much more. \n",
    "     Such problems are out of control and are hard to determine.\"\"\")\n",
    "     file.write(b\"\"\"Logging is a means of tracking events that happen when some software runs. \n",
    "     Logging is important for software developing, debugging, and running. \n",
    "     If you don't have any logging record and your program crashes, there are very few chances that you detect the cause of the problem.\n",
    "     And if you detect the cause, it will consume a lot of time. With logging, you can leave a trail of breadcrumbs so that \n",
    "     if something goes wrong, we can determine the cause of the problem. There are a number of situations like if you are expecting an integer,\n",
    "     you have been given a float and you can a cloud API, the service is down for maintenance, and much more. \n",
    "     Such problems are out of control and are hard to determine.\"\"\")\n",
    "     file.flush()\n",
    "\n",
    "with open(\"test.txt\",\"rb\") as f:\n",
    "    file=io.BufferedReader(f)\n",
    "    data=file.read(1000) #basic logging setup that logs to a file with rotation after 1MB\n",
    "    print(data)\n"
   ]
  },
  {
   "cell_type": "markdown",
   "id": "4c246bcf-3771-487a-8037-5aa8265c75c7",
   "metadata": {},
   "source": [
    "### Q19. Write a program that handles both IndexError and KeyError using a try-except block."
   ]
  },
  {
   "cell_type": "code",
   "execution_count": 95,
   "id": "4f02f158-298d-493a-8591-64a1ea66a814",
   "metadata": {},
   "outputs": [
    {
     "name": "stdout",
     "output_type": "stream",
     "text": [
      "IndexError occurred: list index out of range\n",
      "Execution completed.\n"
     ]
    }
   ],
   "source": [
    "# Example program to handle IndexError and KeyError\n",
    "\n",
    "def handle_exceptions():\n",
    "    try:\n",
    "        # Code that may raise IndexError\n",
    "        my_list = [1, 2, 3]\n",
    "        print(\"Accessing 5th element in the list:\", my_list[4])  # This will raise IndexError\n",
    "\n",
    "        # Code that may raise KeyError\n",
    "        my_dict = {\"a\": 1, \"b\": 2}\n",
    "        print(\"Accessing non-existent key:\", my_dict[\"c\"])  # This will raise KeyError\n",
    "\n",
    "    except IndexError as e:\n",
    "        print(f\"IndexError occurred: {e}\")\n",
    "\n",
    "    except KeyError as e:\n",
    "        print(f\"KeyError occurred: {e}\")\n",
    "\n",
    "    finally:\n",
    "        print(\"Execution completed.\")\n",
    "\n",
    "# Call the function\n",
    "handle_exceptions()\n"
   ]
  },
  {
   "cell_type": "markdown",
   "id": "b06c9280-d9ee-4500-a5ba-34d8db798aa1",
   "metadata": {},
   "source": [
    "### Q20.  How would you open a file and read its contents using a context manager in Python?"
   ]
  },
  {
   "cell_type": "code",
   "execution_count": 97,
   "id": "1d66a17d-80af-4af2-8ec3-49478755c8c8",
   "metadata": {},
   "outputs": [
    {
     "name": "stdout",
     "output_type": "stream",
     "text": [
      "Hello, this is a sample text!\n",
      "\n",
      " Welcome to the class\n",
      "Appending more data.\n",
      "\n"
     ]
    }
   ],
   "source": [
    "# Example: Reading a file using a context manager\n",
    "file_path = \"filename.txt\"\n",
    "\n",
    "with open(file_path, \"r\") as file:\n",
    "    contents = file.read()\n",
    "\n",
    "print(contents)\n"
   ]
  },
  {
   "cell_type": "markdown",
   "id": "8f615a09-09c5-4894-abdd-8f09b327a4c9",
   "metadata": {},
   "source": [
    "### Q21. Write a Python program that reads a file and prints the number of occurrences of a specific word."
   ]
  },
  {
   "cell_type": "code",
   "execution_count": 99,
   "id": "3a4aabe2-8a2a-4418-aecc-cab000b1b868",
   "metadata": {},
   "outputs": [
    {
     "name": "stdout",
     "output_type": "stream",
     "text": [
      "The word 'if' occurs 11 times in the file.\n"
     ]
    }
   ],
   "source": [
    "def count_word_occurrences(file_path, target_word):\n",
    "    try:\n",
    "        with open(file_path, 'r', encoding='utf-8') as file:\n",
    "            content = file.read().lower()  # Read and convert to lowercase for case-insensitive matching\n",
    "            words = content.split()  # Split the content into words\n",
    "            count = words.count(target_word.lower())  # Count occurrences of the target word\n",
    "        print(f\"The word '{target_word}' occurs {count} times in the file.\")\n",
    "    except FileNotFoundError:\n",
    "        print(\"Error: The file was not found.\")\n",
    "    except Exception as e:\n",
    "        print(f\"An error occurred: {e}\")\n",
    "\n",
    "# Example usage\n",
    "file_path = 'test.txt'  # Replace with your file path\n",
    "target_word = 'if'  # Replace with the word you want to count\n",
    "count_word_occurrences(file_path, target_word)\n"
   ]
  },
  {
   "cell_type": "markdown",
   "id": "35b357a6-3e3e-4fcc-af22-bded58326a12",
   "metadata": {},
   "source": [
    "### Q22. How can you check if a file is empty before attempting to read its contents?"
   ]
  },
  {
   "cell_type": "code",
   "execution_count": 101,
   "id": "c623374f-8b41-4eea-bf81-3b7a103f0b79",
   "metadata": {},
   "outputs": [
    {
     "name": "stdout",
     "output_type": "stream",
     "text": [
      "The file is not empty.\n"
     ]
    }
   ],
   "source": [
    "import os\n",
    "file_path = 'test.txt'\n",
    "if os.path.getsize(file_path) == 0:\n",
    "       print(\"The file is empty.\")\n",
    "else:\n",
    "       print(\"The file is not empty.\")"
   ]
  },
  {
   "cell_type": "markdown",
   "id": "d1cf70ab-e21d-44d0-844b-cf732b852415",
   "metadata": {},
   "source": [
    "### Q23. Write a Python program that writes to a log file when an error occurs during file handling."
   ]
  },
  {
   "cell_type": "code",
   "execution_count": 103,
   "id": "e156616f-e812-460f-995b-49b952233924",
   "metadata": {},
   "outputs": [
    {
     "name": "stdout",
     "output_type": "stream",
     "text": [
      "An error occurred. Check the log file for details.\n"
     ]
    }
   ],
   "source": [
    "import logging\n",
    "\n",
    "# Configure logging\n",
    "logging.basicConfig(\n",
    "    filename='error1.log',  # Log file name\n",
    "    level=logging.ERROR,       # Log only errors and above\n",
    "    format='%(asctime)s - %(levelname)s - %(message)s'\n",
    ")\n",
    "\n",
    "def handle_file_operations():\n",
    "    try:\n",
    "        # Attempt to open a non-existent file (example of an error)\n",
    "        with open('non_existent_file.txt', 'r') as file:\n",
    "            content = file.read()\n",
    "            print(content)\n",
    "    except FileNotFoundError as e:\n",
    "        logging.error(f\"FileNotFoundError: {e}\")\n",
    "        print(\"An error occurred. Check the log file for details.\")\n",
    "    except Exception as e:\n",
    "        logging.error(f\"Unexpected error: {e}\")\n",
    "        print(\"An unexpected error occurred. Check the log file for details.\")\n",
    "\n",
    "# Run the function\n",
    "handle_file_operations()"
   ]
  }
 ],
 "metadata": {
  "kernelspec": {
   "display_name": "Python [conda env:base] *",
   "language": "python",
   "name": "conda-base-py"
  },
  "language_info": {
   "codemirror_mode": {
    "name": "ipython",
    "version": 3
   },
   "file_extension": ".py",
   "mimetype": "text/x-python",
   "name": "python",
   "nbconvert_exporter": "python",
   "pygments_lexer": "ipython3",
   "version": "3.13.5"
  }
 },
 "nbformat": 4,
 "nbformat_minor": 5
}
